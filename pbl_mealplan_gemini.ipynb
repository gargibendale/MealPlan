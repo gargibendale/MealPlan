{
 "cells": [
  {
   "cell_type": "code",
   "execution_count": 35,
   "id": "262591c7-8504-4048-b978-3a58d33c97d2",
   "metadata": {},
   "outputs": [],
   "source": [
    "import getpass\n",
    "import os\n",
    "import re\n",
    "import jsonify\n",
    "from pathlib import Path\n",
    "from typing import List\n",
    "import base64\n",
    "import json\n",
    "from PIL import Image\n",
    "import ast\n",
    "import pytesseract\n",
    "if \"GOOGLE_API_KEY\" not in os.environ:\n",
    "    os.environ[\"GOOGLE_API_KEY\"] = getpass.getpass(\"Provide your Google API Key\")"
   ]
  },
  {
   "cell_type": "code",
   "execution_count": 4,
   "id": "a68c11f8-bda3-4898-a28e-2576b60c92cb",
   "metadata": {},
   "outputs": [],
   "source": [
    "from langchain_google_genai import GoogleGenerativeAI\n",
    "from langchain.prompts import PromptTemplate\n",
    "from langchain_core.messages import HumanMessage\n",
    "from langchain_core.messages.human import HumanMessage\n",
    "from langchain.chains import LLMChain\n",
    "from langchain_core.output_parsers import StrOutputParser\n",
    "from datetime import datetime"
   ]
  },
  {
   "cell_type": "code",
   "execution_count": 5,
   "id": "e48f6736-68f4-4d49-8545-1e8ed9598eb2",
   "metadata": {},
   "outputs": [],
   "source": [
    "# Simple image to string\n",
    "extracted_text = pytesseract.image_to_string(Image.open('receipt2.jpg'))"
   ]
  },
  {
   "cell_type": "code",
   "execution_count": 6,
   "id": "262f5fe1-fd9c-442a-b864-8fd53d01850a",
   "metadata": {},
   "outputs": [],
   "source": [
    "gemini = GoogleGenerativeAI(model=\"gemini-1.5-pro\")"
   ]
  },
  {
   "cell_type": "code",
   "execution_count": 7,
   "id": "48f4a313-da25-45f1-9128-62beb54aa782",
   "metadata": {},
   "outputs": [],
   "source": [
    "def calculate_days_to_expiry(expiry_dates):\n",
    "    today = datetime.today().date()\n",
    "    return {item: (datetime.strptime(date, \"%Y-%m-%d\").date() - today).days for item, date in expiry_dates.items()}"
   ]
  },
  {
   "cell_type": "code",
   "execution_count": 12,
   "id": "b0fca19a-86b6-482f-af0b-78fe8736b3b6",
   "metadata": {},
   "outputs": [],
   "source": [
    "prompt_template_items = PromptTemplate(\n",
    "    input_variables=[\"extracted_text\"],\n",
    "    template=\"\"\"\n",
    "    this is the text extracted from a grocery bill using pytesseract:{extracted_text}. \n",
    "    Extract the list of grocery items from this. \n",
    "    Write the names of the grocery items used for food only in a readable format with full name. \n",
    "    Write these items as a list, like: ['Item 1 Name', 'Item 2 Name', 'Item 3 Name', ...] with no preamble.\n",
    "    \"\"\"\n",
    ")"
   ]
  },
  {
   "cell_type": "code",
   "execution_count": 13,
   "id": "eba9c04b-6667-4070-ae00-a552dd0be14c",
   "metadata": {},
   "outputs": [],
   "source": [
    "chain_items = prompt_template_items | gemini | StrOutputParser()"
   ]
  },
  {
   "cell_type": "code",
   "execution_count": 14,
   "id": "adfc6065-0ae1-4e06-8fa8-f8ecde8e3eeb",
   "metadata": {},
   "outputs": [],
   "source": [
    "result = chain_items.invoke(input={\"extracted_text\":extracted_text})"
   ]
  },
  {
   "cell_type": "code",
   "execution_count": 15,
   "id": "545bd6e2-902f-49f4-9cd9-e5d6a12eadcd",
   "metadata": {},
   "outputs": [
    {
     "name": "stdout",
     "output_type": "stream",
     "text": [
      "['Pasta Parmesan Pesto',\n",
      "'Hellmanns Mayonnaise',\n",
      "'Monster Ultra Green',\n",
      "'Monster Ultra Blue',\n",
      "'Mushrooms White',\n",
      "'Baby Spinach',\n",
      "'Carrots',\n",
      "'Apple Honeycrisp',\n",
      "'Banana',\n",
      "'Zucchini Green',\n",
      "'Snap Peas',\n",
      "'Roasted Garlic Hummus',\n",
      "'Cheese Halloumi',\n",
      "'Liver Sausage',\n",
      "'Cheddar Cheese 2 Year']\n"
     ]
    }
   ],
   "source": [
    "print(result)"
   ]
  },
  {
   "cell_type": "code",
   "execution_count": 19,
   "id": "aef02617-0ee0-470a-b7be-6c3ce8e060c2",
   "metadata": {},
   "outputs": [
    {
     "name": "stdout",
     "output_type": "stream",
     "text": [
      "{\"grocery_items\": [\"Pasta Parmesan Pesto\", \"Hellmanns Mayonnaise\", \"Monster Ultra Green\", \"Monster Ultra Blue\", \"Mushrooms White\", \"Baby Spinach\", \"Carrots\", \"Apple Honeycrisp\", \"Banana\", \"Zucchini Green\", \"Snap Peas\", \"Roasted Garlic Hummus\", \"Cheese Halloumi\", \"Liver Sausage\", \"Cheddar Cheese 2 Year\"]}\n"
     ]
    }
   ],
   "source": [
    "# Convert the result string to a Python list\n",
    "grocery_list = ast.literal_eval(result)\n",
    "\n",
    "# Convert the list to JSON\n",
    "grocery_json = json.dumps({\"grocery_items\": grocery_list})\n",
    "\n",
    "# Example: print or return this JSON to send to frontend\n",
    "print(grocery_json)"
   ]
  },
  {
   "cell_type": "code",
   "execution_count": 87,
   "id": "0069a3c2-2489-46ed-8f90-cddaa6ad2a20",
   "metadata": {},
   "outputs": [],
   "source": [
    "prompt_template_meal = PromptTemplate(\n",
    "    input_variables=[\"age\", \"weight\", \"height\", \"gender\", \"diet_type\", \"allergies\", \"health_conditions\", \"health_goal\", \"cuisine\", \"item_list\", \"days_to_expiry\"],\n",
    "    template=\"\"\"\n",
    "    1. You are an AI nutritionist. Generate a 7-day meal plan (4 meals per day) based on the following details:\n",
    "    - Age: {age}\n",
    "    - Weight: {weight} kg\n",
    "    - Height: {height} cm\n",
    "    - Gender: {gender}\n",
    "    - Dietary Preferences: {diet_type}\n",
    "    - Allergies: {allergies}\n",
    "    - Health Conditions: {health_conditions}\n",
    "    - Health Goal: {health_goal}\n",
    "    - Preferred Cuisine: {cuisine}\n",
    "    - Available Ingredients: {item_list}\n",
    "    - Time Until Expiry (Days): {days_to_expiry}\n",
    "    \n",
    "    2. The plan should be optimized to minimize food waste by prioritizing items that expire soon.\n",
    "    3. Strictly do not repeat the exact same meals on consecutive days.\n",
    "    4. Double check your responses before finalizing the meal plan.\n",
    "    5. Output the plan in JSON format with days (monday, tuesday, wednesday, etc.) as keys and each day containing 4 meals (breakfast, lunch, snacks, dinner).\n",
    "    6. Make sure that the response does not contain any preamble. Return JSON text only, no markdown formatting, no triple backticks, no explanations.\n",
    "    \"\"\" )"
   ]
  },
  {
   "cell_type": "code",
   "execution_count": 88,
   "id": "5d368a8b-5362-4092-af5c-972ae8884b23",
   "metadata": {},
   "outputs": [],
   "source": [
    "chain_meal = prompt_template_meal | gemini | StrOutputParser()"
   ]
  },
  {
   "cell_type": "code",
   "execution_count": 89,
   "id": "ccc90563-900c-481a-9745-aa09bb8173c0",
   "metadata": {},
   "outputs": [],
   "source": [
    "result = chain_meal.invoke(input=\n",
    "    {\"age\":25, \"weight\":70, \"height\":175, \"gender\":\"male\",\n",
    "        \"diet_type\":\"vegetarian\", \"allergies\":\"Peanuts\", \"health_conditions\":\"Diabetes\",\n",
    "        \"health_goal\":\"muscle gain\", \"cuisine\":\"Indian\",\n",
    "        \"item_list\":[\"Pasta Parmesan Pesto\", \"Hellmanns Mayonnaise\", \"Monster Ultra Green\", \"Monster Ultra Blue\", \"Mushrooms White\", \"Baby Spinach\", \"Carrots\", \"Apple Honeycrisp\", \"Banana\", \"Zucchini Green\", \"Snap Peas\", \"Roasted Garlic Hummus\", \"Cheese Halloumi\", \"Liver Sausage\", \"Cheddar Cheese 2 Year\"],\n",
    "        \"days_to_expiry\":calculate_days_to_expiry({\n",
    "  \"Pasta Parmesan Pesto\": \"2025-04-22\",\n",
    "  \"Hellmanns Mayonnaise\": \"2025-05-15\",\n",
    "  \"Monster Ultra Green\": \"2025-06-01\",\n",
    "  \"Monster Ultra Blue\": \"2025-06-03\",\n",
    "  \"Mushrooms White\": \"2025-04-10\",\n",
    "  \"Baby Spinach\": \"2025-04-12\",\n",
    "  \"Carrots\": \"2025-04-20\",\n",
    "  \"Apple Honeycrisp\": \"2025-04-18\",\n",
    "  \"Banana\": \"2025-04-09\",\n",
    "  \"Zucchini Green\": \"2025-04-14\",\n",
    "  \"Snap Peas\": \"2025-04-17\",\n",
    "  \"Roasted Garlic Hummus\": \"2025-04-25\",\n",
    "  \"Cheese Halloumi\": \"2025-05-05\",\n",
    "  \"Liver Sausage\": \"2025-04-27\",\n",
    "  \"Cheddar Cheese 2 Year\": \"2025-06-10\"\n",
    "})}\n",
    ")"
   ]
  },
  {
   "cell_type": "code",
   "execution_count": 90,
   "id": "df82b6a0-6069-414c-9cc0-cbfca858a0c5",
   "metadata": {},
   "outputs": [
    {
     "name": "stdout",
     "output_type": "stream",
     "text": [
      "{\n",
      "  \"monday\": {\n",
      "    \"breakfast\": \"Spinach and Mushroom Omelette with Halloumi\",\n",
      "    \"lunch\": \"Pasta Pesto with Zucchini and Snap Peas\",\n",
      "    \"snacks\": \"Apple slices with Roasted Garlic Hummus and Banana\",\n",
      "    \"dinner\": \"Halloumi and Carrot Curry with Brown Rice (not from provided ingredients, needs to be acquired)\"\n",
      "  },\n",
      "  \"tuesday\": {\n",
      "    \"breakfast\": \"Banana Smoothie with Spinach and Cheddar Cheese\",\n",
      "    \"lunch\": \"Halloumi and Snap Pea Salad with Hummus dressing\",\n",
      "    \"snacks\": \"Apple slices with Cheddar Cheese\",\n",
      "    \"dinner\": \"Mushroom and Zucchini Curry with Brown Rice (not from provided ingredients, needs to be acquired)\"\n",
      "  },\n",
      "  \"wednesday\": {\n",
      "    \"breakfast\": \"Scrambled Halloumi with Spinach and Mushrooms\",\n",
      "    \"lunch\": \"Pasta Pesto with Carrots and Baby Spinach\",\n",
      "    \"snacks\": \"Banana with a dollop of Hummus\",\n",
      "    \"dinner\": \"Zucchini and Carrot Curry with Brown Rice (not from provided ingredients, needs to be acquired)\"\n",
      "  },\n",
      "  \"thursday\": {\n",
      "    \"breakfast\": \"Spinach and Cheddar Cheese Omelette\",\n",
      "    \"lunch\": \"Halloumi Salad with Apple and Carrots\",\n",
      "    \"snacks\": \"Roasted Garlic Hummus with Carrot Sticks\",\n",
      "    \"dinner\": \"Spinach and Mushroom Curry with Brown Rice (not from provided ingredients, needs to be acquired)\"\n",
      "  },\n",
      "  \"friday\": {\n",
      "    \"breakfast\": \"Halloumi and Mushroom Scramble\",\n",
      "    \"lunch\": \"Pasta Pesto with remaining Spinach, Zucchini, and Snap Peas\",\n",
      "    \"snacks\": \"Apple slices with Cheddar Cheese\",\n",
      "    \"dinner\": \"Carrot and Halloumi Stir-fry with Brown Rice (not from provided ingredients, needs to be acquired)\"\n",
      "  },\n",
      "  \"saturday\": {\n",
      "    \"breakfast\": \"Cheddar and Spinach Omelette\",\n",
      "    \"lunch\": \"Halloumi and Carrot Salad with Hummus dressing\",\n",
      "    \"snacks\": \"Apple slices with Roasted Garlic Hummus\",\n",
      "    \"dinner\": \"Mushroom and Zucchini Curry with Brown Rice (not from provided ingredients, needs to be acquired)\"\n",
      "  },\n",
      "  \"sunday\": {\n",
      "    \"breakfast\": \"Halloumi and Spinach Scramble\",\n",
      "    \"lunch\": \"Pasta Pesto with remaining Carrots\",\n",
      "    \"snacks\": \"Apple slices with Cheddar Cheese\",\n",
      "    \"dinner\": \"Mixed Vegetable Curry with Brown Rice (using any remaining vegetables and incorporating lentils or chickpeas for protein if available, otherwise brown rice is the primary source, all not from provided ingredients, needs to be acquired)\"\n",
      "  }\n",
      "}\n"
     ]
    }
   ],
   "source": [
    "# Clean markdown formatting\n",
    "cleaned = re.sub(r\"^```json|```$\", \"\", result.strip(), flags=re.IGNORECASE).strip(\"`\\n \")\n",
    "\n",
    "meal_plan = json.loads(cleaned)\n",
    "print(json.dumps(meal_plan, indent=2))"
   ]
  },
  {
   "cell_type": "code",
   "execution_count": 72,
   "id": "db9f30ad-22ee-40bc-bc8f-75101ccce3af",
   "metadata": {},
   "outputs": [],
   "source": [
    "prompt_template_recipe = PromptTemplate(\n",
    "    input_variables=[\"meal\", \"item_list\", \"days_to_expiry\"],\n",
    "    template=\"\"\"\n",
    "    1. You are an AI nutritionist. Generate a recipe based on the following details:\n",
    "    - Meal: {meal}\n",
    "    - Items: {item_list}\n",
    "    - Time until expiry: {days_to_expiry}\n",
    "    2. The recipe should be optimized to minimize food waste by prioritizing items that expire soon. If absolutely needed, include items not available in the items list as well, while specifying them.\n",
    "    3. Double check your responses before finalizing the meal recipe.\n",
    "    4. Output the plan in JSON format with \"recipes\" array containing recipe_name, ingredients (item, quantity, note) and instructions, all for each recipe.\n",
    "    5. Make sure that the response does not contain any preamble. Return JSON text only.\n",
    "    \"\"\" )"
   ]
  },
  {
   "cell_type": "code",
   "execution_count": 73,
   "id": "af0ad25e-8511-4971-8230-218d9d744591",
   "metadata": {},
   "outputs": [],
   "source": [
    "chain_recipe = prompt_template_recipe | gemini | StrOutputParser()"
   ]
  },
  {
   "cell_type": "code",
   "execution_count": 74,
   "id": "be778696-7903-4c10-83e0-d29ed3000257",
   "metadata": {},
   "outputs": [],
   "source": [
    "result = chain_recipe.invoke(input={\n",
    "    \"meal\": \"Spinach and Tomato Omelette (using chickpea flour) with a side of lentils\", \"item_list\":[\"rice\", \"lentils\", \"spinach\", \"tomatoes\"],\n",
    "        \"days_to_expiry\":calculate_days_to_expiry({\"rice\": \"2025-04-10\", \"lentils\": \"2025-04-30\", \"spinach\": \"2025-04-18\", \"tomatoes\": \"2025-04-18\"})\n",
    "})"
   ]
  },
  {
   "cell_type": "code",
   "execution_count": 76,
   "id": "9d2e5926-834a-40ad-82eb-00b12e801598",
   "metadata": {},
   "outputs": [
    {
     "name": "stdout",
     "output_type": "stream",
     "text": [
      "{\n",
      "  \"recipes\": [\n",
      "    {\n",
      "      \"recipe_name\": \"Spinach and Tomato Chickpea Flour Omelette\",\n",
      "      \"ingredients\": [\n",
      "        {\n",
      "          \"item\": \"Spinach\",\n",
      "          \"quantity\": \"1 cup, chopped\",\n",
      "          \"note\": \"Use fresh spinach as it expires sooner.\"\n",
      "        },\n",
      "        {\n",
      "          \"item\": \"Tomatoes\",\n",
      "          \"quantity\": \"1/2 cup, diced\",\n",
      "          \"note\": \"Use fresh tomatoes as they expire sooner.\"\n",
      "        },\n",
      "        {\n",
      "          \"item\": \"Chickpea flour\",\n",
      "          \"quantity\": \"1/2 cup\",\n",
      "          \"note\": \"Not in the provided items list, but essential for the omelette.\"\n",
      "        },\n",
      "        {\n",
      "          \"item\": \"Water\",\n",
      "          \"quantity\": \"1/4 cup\",\n",
      "          \"note\": \"Not in the provided items list.\"\n",
      "        },\n",
      "        {\n",
      "          \"item\": \"Onion\",\n",
      "          \"quantity\": \"1/4 cup, chopped\",\n",
      "          \"note\": \"Not in the provided items list, but recommended for flavor.  Optional.\"\n",
      "        },\n",
      "        {\n",
      "          \"item\": \"Garlic\",\n",
      "          \"quantity\": \"1 clove, minced\",\n",
      "          \"note\": \"Not in the provided items list, but recommended for flavor. Optional.\"\n",
      "        },\n",
      "        {\n",
      "          \"item\": \"Salt\",\n",
      "          \"quantity\": \"To taste\",\n",
      "          \"note\": \"Not in the provided items list.\"\n",
      "        },\n",
      "        {\n",
      "          \"item\": \"Pepper\",\n",
      "          \"quantity\": \"To taste\",\n",
      "          \"note\": \"Not in the provided items list.\"\n",
      "        },\n",
      "        {\n",
      "          \"item\": \"Oil\",\n",
      "          \"quantity\": \"1 tbsp\",\n",
      "          \"note\": \"Not in the provided items list, for cooking.\"\n",
      "        }\n",
      "      ],\n",
      "      \"instructions\": [\n",
      "        \"In a bowl, whisk together chickpea flour, water, salt, and pepper until smooth. Let it rest for 5 minutes.\",\n",
      "        \"Heat oil in a non-stick pan over medium heat.\",\n",
      "        \"If using, saut\\u00e9 onion and garlic until softened.\",\n",
      "        \"Add chopped spinach and tomatoes to the pan. Cook until spinach wilts and tomatoes soften.\",\n",
      "        \"Pour the chickpea flour batter over the vegetables in the pan.\",\n",
      "        \"Cook for 3-4 minutes per side, or until golden brown and cooked through.\",\n",
      "        \"Serve immediately.\"\n",
      "      ]\n",
      "    },\n",
      "    {\n",
      "      \"recipe_name\": \"Simple Steamed Lentils\",\n",
      "      \"ingredients\": [\n",
      "        {\n",
      "          \"item\": \"Lentils\",\n",
      "          \"quantity\": \"1 cup\",\n",
      "          \"note\": \"Use lentils as part of the meal and since they have a longer expiry date.\"\n",
      "        },\n",
      "        {\n",
      "          \"item\": \"Water\",\n",
      "          \"quantity\": \"2 cups\",\n",
      "          \"note\": \"Not in the provided items list.\"\n",
      "        },\n",
      "        {\n",
      "          \"item\": \"Salt\",\n",
      "          \"quantity\": \"To taste\",\n",
      "          \"note\": \"Not in the provided items list.\"\n",
      "        }\n",
      "      ],\n",
      "      \"instructions\": [\n",
      "        \"Rinse lentils thoroughly.\",\n",
      "        \"Combine lentils, water, and salt in a pot.\",\n",
      "        \"Bring to a boil, then reduce heat and simmer for 20-25 minutes, or until lentils are tender.\",\n",
      "        \"Drain any excess water.\",\n",
      "        \"Serve hot.\"\n",
      "      ]\n",
      "    }\n",
      "  ]\n",
      "}\n"
     ]
    }
   ],
   "source": [
    "# Clean markdown formatting\n",
    "cleaned = re.sub(r\"^```json|```$\", \"\", result.strip(), flags=re.IGNORECASE).strip(\"`\\n \")\n",
    "\n",
    "recipe = json.loads(cleaned)\n",
    "print(json.dumps(recipe, indent=2))"
   ]
  },
  {
   "cell_type": "code",
   "execution_count": null,
   "id": "e963a5ba-f1d5-4c20-8468-00081c3aa6a0",
   "metadata": {},
   "outputs": [],
   "source": []
  }
 ],
 "metadata": {
  "kernelspec": {
   "display_name": "Python3",
   "language": "python",
   "name": "system-python"
  },
  "language_info": {
   "codemirror_mode": {
    "name": "ipython",
    "version": 3
   },
   "file_extension": ".py",
   "mimetype": "text/x-python",
   "name": "python",
   "nbconvert_exporter": "python",
   "pygments_lexer": "ipython3",
   "version": "3.11.9"
  }
 },
 "nbformat": 4,
 "nbformat_minor": 5
}
